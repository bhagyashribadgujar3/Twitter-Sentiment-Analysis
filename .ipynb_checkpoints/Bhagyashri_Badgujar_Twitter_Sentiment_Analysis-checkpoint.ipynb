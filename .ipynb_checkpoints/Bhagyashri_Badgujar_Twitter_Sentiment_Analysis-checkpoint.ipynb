{
 "cells": [
  {
   "cell_type": "code",
   "execution_count": 864,
   "metadata": {},
   "outputs": [],
   "source": [
    "import string \n",
    "import re"
   ]
  },
  {
   "cell_type": "markdown",
   "metadata": {},
   "source": [
    "import required libraries\n"
   ]
  },
  {
   "cell_type": "code",
   "execution_count": 865,
   "metadata": {},
   "outputs": [],
   "source": [
    "Trump_text = open('Trump.txt', 'r') "
   ]
  },
  {
   "cell_type": "markdown",
   "metadata": {},
   "source": [
    "opens the file and saves into Trump_text"
   ]
  },
  {
   "cell_type": "code",
   "execution_count": 866,
   "metadata": {},
   "outputs": [],
   "source": [
    "Trump_t = Trump_text.read() \n"
   ]
  },
  {
   "cell_type": "markdown",
   "metadata": {},
   "source": [
    "Read the Trump_text file and store it in Trump_t"
   ]
  },
  {
   "cell_type": "markdown",
   "metadata": {},
   "source": [
    "# Cleaning the file and storing it in Trump_t\n"
   ]
  },
  {
   "cell_type": "code",
   "execution_count": 867,
   "metadata": {},
   "outputs": [],
   "source": [
    "Trump_t = re.sub(r'\\W',\" \",str(Trump_t))                                    #selects only characters\n",
    "Trump_t = re.sub(r'^https?:\\/\\/.*[\\r\\n]*', '', Trump_t, flags=re.MULTILINE) #removes the hyperlinks starting with https:\n",
    "Trump_t = re.sub('http+','',Trump_t)                                        #removes the words starting with http\n",
    "Trump_t = re.sub('@[^\\s]+','',Trump_t)                                      #removes the names starting with @\n",
    "Trump_t = re.sub('[#,\\!./:+*?&\"%;-]', '',Trump_t)                           #removes the special characters from the string\n",
    "Trump_t = re.sub('[0-9]+','',Trump_t)                                       #removes the numbers from the string       \n",
    "Trump_t=\" \".join(filter(lambda x:x[0]!='x', Trump_t.split()))               #removes the strings starting with x\n",
    "Trump_t = re.sub('Rt[A-Za-z0-9./]+','',Trump_t)                             #removes the words starting with Rt\n",
    "\n",
    "\n",
    "\n"
   ]
  },
  {
   "cell_type": "code",
   "execution_count": 868,
   "metadata": {},
   "outputs": [],
   "source": [
    "masterlist = Trump_t.split(\" \") \n",
    "\n"
   ]
  },
  {
   "cell_type": "markdown",
   "metadata": {
    "scrolled": false
   },
   "source": [
    "splits the text data and saves in a list\n"
   ]
  },
  {
   "cell_type": "markdown",
   "metadata": {},
   "source": [
    "## Open the positive, negative and stopwords file and clean them ."
   ]
  },
  {
   "cell_type": "code",
   "execution_count": 869,
   "metadata": {},
   "outputs": [],
   "source": [
    "positive_file=open('positive.txt', 'r')\n",
    "pf = positive_file.read()                 #reading the positive words into a string\n",
    "positive_list = pf.split(\"\\n\")            #splitting the words in the file\n",
    "postive_l=[]\n",
    "for w in positive_list:                   #loop for converting the words to lowercase\n",
    "    w = w.lower()\n",
    "    w = w.strip()\n",
    "    postive_l.append(w)\n",
    "\n",
    "negative_file=open('negative.txt', 'r')\n",
    "nf = negative_file.read()                 #reading the negative words into a string\n",
    "neg_list = nf.split(\"\\n\")                 #splitting the words in the file\n",
    "negative_l=[]\n",
    "for w in neg_list:                        #loop for converting the words to lowercase\n",
    "    w = w.lower()\n",
    "    w = w.strip()\n",
    "    negative_l.append(w)\n",
    "\n",
    "stopwords_file=open('stopwords.txt', 'r')\n",
    "sf = stopwords_file.read()                #reading the stop words into a string\n",
    "stop_list = sf.split(\"\\n\")                #splitting the words in the file\n",
    "stopword_l=[]\n",
    "for w in stop_list:                       #loop for converting the words to lowercase\n",
    "    w = w.lower()\n",
    "    w = w.strip()\n",
    "    stopword_l.append(w)"
   ]
  },
  {
   "cell_type": "code",
   "execution_count": 870,
   "metadata": {},
   "outputs": [],
   "source": [
    "positive_count=0\n",
    "word_count=0\n",
    "negative_count=0\n",
    "stopwords_count=0\n",
    "other_words_count=0\n",
    "value=0"
   ]
  },
  {
   "cell_type": "markdown",
   "metadata": {},
   "source": [
    "Initialize the value of word_count, positive_count, negative_count, stopwords_count, other_words_count and value to 0"
   ]
  },
  {
   "cell_type": "markdown",
   "metadata": {},
   "source": [
    "## loop for counting the number of positive, negative, stopwords & other words"
   ]
  },
  {
   "cell_type": "code",
   "execution_count": 871,
   "metadata": {
    "scrolled": true
   },
   "outputs": [],
   "source": [
    "for i in masterlist:\n",
    "    word_count=word_count + 1\n",
    "    if i in postive_l and (i!='Trump' or i!='trump'):\n",
    "        positive_count+=1\n",
    "        value+=1\n",
    "    elif i in negative_l:\n",
    "        negative_count+=1\n",
    "        value-=1\n",
    "    elif i in stopword_l:\n",
    "        stopwords_count+=1\n",
    "    else:\n",
    "        other_words_count+=1"
   ]
  },
  {
   "cell_type": "markdown",
   "metadata": {},
   "source": [
    "### Count the number of positive, negative, stopwords and other words with their ratios and print them\n"
   ]
  },
  {
   "cell_type": "code",
   "execution_count": 872,
   "metadata": {
    "scrolled": true
   },
   "outputs": [
    {
     "name": "stdout",
     "output_type": "stream",
     "text": [
      "Total number of words are 94780\n",
      "Total number of positive words are 1446\n",
      "Total number of negative words are 3599\n",
      "Total number of stop words are 25115\n",
      "Total number of other words are 64620\n"
     ]
    }
   ],
   "source": [
    "print (\"Total number of words are \" + str(word_count))\n",
    "print (\"Total number of positive words are \" + str(positive_count))\n",
    "print (\"Total number of negative words are \" + str(negative_count))\n",
    "print (\"Total number of stop words are \" + str(stopwords_count))\n",
    "print (\"Total number of other words are \" + str(other_words_count))"
   ]
  },
  {
   "cell_type": "code",
   "execution_count": 873,
   "metadata": {},
   "outputs": [
    {
     "name": "stdout",
     "output_type": "stream",
     "text": [
      "The ratio of positive words to the total words is 0.015256383203207428\n",
      "The ratio of negative words to the total words is 0.037972146022367585\n",
      "The ratio of stop words to the total words is 0.2649820637265246\n",
      "The ratio of other words to the total words is 0.6817894070479004\n"
     ]
    }
   ],
   "source": [
    "pos_ratio=float(positive_count/(word_count))\n",
    "print(\"The ratio of positive words to the total words is \" +str(pos_ratio))\n",
    "\n",
    "neg_ratio=float(negative_count/(word_count))\n",
    "print(\"The ratio of negative words to the total words is \" +str(neg_ratio))\n",
    "\n",
    "stop_ratio=float(stopwords_count/(word_count))\n",
    "print(\"The ratio of stop words to the total words is \" +str(stop_ratio))\n",
    "\n",
    "others_ratio=float(other_words_count/(word_count))\n",
    "print(\"The ratio of other words to the total words is \" +str(others_ratio))\n",
    "#corrected positive vs negative ratio is %.2f' % \\"
   ]
  },
  {
   "cell_type": "markdown",
   "metadata": {},
   "source": [
    "calculate ratios of positive,negative,stop and other words with respect to whole word count"
   ]
  },
  {
   "cell_type": "code",
   "execution_count": 874,
   "metadata": {},
   "outputs": [
    {
     "name": "stdout",
     "output_type": "stream",
     "text": [
      "The sum of all positive and negative words observed is: -2153\n"
     ]
    }
   ],
   "source": [
    "print(\"The sum of all positive and negative words observed is: \" +str(value))"
   ]
  },
  {
   "cell_type": "markdown",
   "metadata": {},
   "source": [
    "### Determine the sentiment based on the count of words and an assumed threshold value"
   ]
  },
  {
   "cell_type": "code",
   "execution_count": 875,
   "metadata": {
    "scrolled": true
   },
   "outputs": [
    {
     "name": "stdout",
     "output_type": "stream",
     "text": [
      "Percentage of positive sentiments is 28.662041625371653\n",
      "Percentage of negative sentiments is 71.33795837462834\n",
      "The overall sentiment is strongly negative\n"
     ]
    }
   ],
   "source": [
    "p=0\n",
    "n=0\n",
    "p= positive_count/(positive_count+negative_count)*100\n",
    "print(\"Percentage of positive sentiments is \" +str(p))\n",
    "n= negative_count/(positive_count+negative_count)*100\n",
    "print(\"Percentage of negative sentiments is \" +str(n))\n",
    "if p>n:\n",
    "    if p>50 and p<60:\n",
    "        print(\"The overall sentiment is weakly postive\")\n",
    "    else:\n",
    "        print(\"The overall sentiment is strongly postive\")\n",
    "else:\n",
    "    if n>50 and n<60:\n",
    "        print(\"The overall sentiment is weakly negative\")\n",
    "    else:\n",
    "        print(\"The overall sentiment is strongly negative\") \n",
    "    \n",
    "    "
   ]
  },
  {
   "cell_type": "markdown",
   "metadata": {},
   "source": [
    "### Close the files"
   ]
  },
  {
   "cell_type": "code",
   "execution_count": 876,
   "metadata": {},
   "outputs": [],
   "source": [
    "Trump_text.close()\n",
    "positive_file.close()\n",
    "negative_file.close()\n",
    "stopwords_file.close()"
   ]
  },
  {
   "cell_type": "markdown",
   "metadata": {},
   "source": [
    "# Similarly sentiment analysis on 'Obama' is done. The results are as follows:"
   ]
  },
  {
   "cell_type": "code",
   "execution_count": 877,
   "metadata": {},
   "outputs": [],
   "source": [
    "import string \n",
    "import re"
   ]
  },
  {
   "cell_type": "markdown",
   "metadata": {},
   "source": [
    "import required libraries"
   ]
  },
  {
   "cell_type": "code",
   "execution_count": 878,
   "metadata": {},
   "outputs": [],
   "source": [
    "Obama_text = open('Obama.txt', 'r')  "
   ]
  },
  {
   "cell_type": "markdown",
   "metadata": {},
   "source": [
    "opens the file and saves into Obama_text"
   ]
  },
  {
   "cell_type": "code",
   "execution_count": 879,
   "metadata": {},
   "outputs": [],
   "source": [
    "Obama_t = Obama_text.read() "
   ]
  },
  {
   "cell_type": "markdown",
   "metadata": {},
   "source": [
    "read the Obama file and store it in Obama_t"
   ]
  },
  {
   "cell_type": "markdown",
   "metadata": {},
   "source": [
    "# Cleaning the file and storing it in Obama_t"
   ]
  },
  {
   "cell_type": "code",
   "execution_count": 880,
   "metadata": {},
   "outputs": [],
   "source": [
    "Obama_t = re.sub(r'\\W',\" \",str(Obama_t))                                       #selects only characters\n",
    "Obama_t = re.sub(r'^https?:\\/\\/.*[\\r\\n]*', '', Obama_t, flags=re.MULTILINE)    #removes the hyperlinks starting with https:\n",
    "Obama_t = re.sub('http+','',Obama_t)                                           #removes the words starting with http\n",
    "Obama_t = re.sub('@[^\\s]+','',Obama_t)                                         #removes the names starting with @\n",
    "Obama_t = re.sub('[#,\\!./:+*?&\"%;-]', '',Obama_t)                              #removes the special characters from the string\n",
    "Obama_t = re.sub('[0-9]+','',Obama_t)                                          #removes the numbers from the string\n",
    "Obama_t=\" \".join(filter(lambda x:x[0]!='x', Obama_t.split()))                  #removes the strings starting with x \n",
    "Obama_t = re.sub('Rt[A-Za-z0-9./]+','',Obama_t)                                # removes the words starting with Rt"
   ]
  },
  {
   "cell_type": "code",
   "execution_count": 881,
   "metadata": {},
   "outputs": [],
   "source": [
    "masterlist1 = Obama_t.split(\" \") \n"
   ]
  },
  {
   "cell_type": "markdown",
   "metadata": {},
   "source": [
    "splits the text data and saves in a list\n"
   ]
  },
  {
   "cell_type": "markdown",
   "metadata": {},
   "source": [
    "## Open the positive, negative and stopwords file and clean them ."
   ]
  },
  {
   "cell_type": "code",
   "execution_count": 882,
   "metadata": {},
   "outputs": [],
   "source": [
    "positive_file=open('positive.txt', 'r')\n",
    "pf = positive_file.read()                 #reading the positive words into a string\n",
    "positive_list = pf.split(\"\\n\")            #splitting the words in the file\n",
    "postive_l=[]        \n",
    "for w in positive_list:                   #loop for converting the words to lowercase\n",
    "    w = w.lower()\n",
    "    w = w.strip()\n",
    "    postive_l.append(w)        \n",
    "\n",
    "negative_file=open('negative.txt', 'r')\n",
    "nf = negative_file.read()                 #reading the negative words into a string\n",
    "neg_list = nf.split(\"\\n\")                 #splitting the words in the file\n",
    "negative_l=[]\n",
    "for w in neg_list:                        #loop for converting the words to lowercase\n",
    "    w = w.lower()\n",
    "    w = w.strip()\n",
    "    negative_l.append(w)\n",
    "\n",
    "stopwords_file=open('stopwords.txt', 'r')\n",
    "sf = stopwords_file.read()                #reading the stop words into a string\n",
    "stop_list = sf.split(\"\\n\")                #splitting the words in the file\n",
    "stopword_l=[]\n",
    "for w in stop_list:                       #loop for converting the words to lowercase\n",
    "    w = w.lower()\n",
    "    w = w.strip()\n",
    "    stopword_l.append(w)"
   ]
  },
  {
   "cell_type": "code",
   "execution_count": 883,
   "metadata": {},
   "outputs": [],
   "source": [
    "positive_count1=0\n",
    "word_count1=0\n",
    "negative_count1=0\n",
    "stopwords_count1=0\n",
    "other_words_count1=0\n",
    "value1=0"
   ]
  },
  {
   "cell_type": "markdown",
   "metadata": {},
   "source": [
    "## loop for counting the number of positive, negative, stopwords & other words"
   ]
  },
  {
   "cell_type": "code",
   "execution_count": 884,
   "metadata": {},
   "outputs": [],
   "source": [
    "for i in masterlist1:\n",
    "    word_count1=word_count1 + 1\n",
    "    if i in postive_l and (i!='Trump' or i!='trump'):\n",
    "        positive_count1+=1\n",
    "        value1+=1\n",
    "    elif i in negative_l:\n",
    "        negative_count1+=1\n",
    "        value1-=1\n",
    "    elif i in stopword_l:\n",
    "        stopwords_count1+=1\n",
    "    else:\n",
    "        other_words_count1+=1"
   ]
  },
  {
   "cell_type": "markdown",
   "metadata": {},
   "source": [
    "### Count the number of positive, negative, stopwords and other words with their ratios and print them"
   ]
  },
  {
   "cell_type": "code",
   "execution_count": 885,
   "metadata": {},
   "outputs": [
    {
     "name": "stdout",
     "output_type": "stream",
     "text": [
      "Total number of words are 34316\n",
      "Total number of positive words are 795\n",
      "Total number of negative words are 595\n",
      "Total number of stop words are 6937\n",
      "Total number of other words are 25989\n"
     ]
    }
   ],
   "source": [
    "print (\"Total number of words are \" + str(word_count1))\n",
    "print (\"Total number of positive words are \" + str(positive_count1))\n",
    "print (\"Total number of negative words are \" + str(negative_count1))\n",
    "print (\"Total number of stop words are \" + str(stopwords_count1))\n",
    "print (\"Total number of other words are \" + str(other_words_count1))"
   ]
  },
  {
   "cell_type": "code",
   "execution_count": 886,
   "metadata": {},
   "outputs": [
    {
     "name": "stdout",
     "output_type": "stream",
     "text": [
      "The ratio of positive words to the total words is 0.023167035785056533\n",
      "The ratio of negative words to the total words is 0.017338850681897656\n",
      "The ratio of stop words to the total words is 0.20215060030306561\n",
      "The ratio of other words to the total words is 0.7573435132299802\n"
     ]
    }
   ],
   "source": [
    "pos_ratio1=float(positive_count1/(word_count1))\n",
    "print(\"The ratio of positive words to the total words is \" +str(pos_ratio1))\n",
    "\n",
    "neg_ratio1=float(negative_count1/(word_count1))\n",
    "print(\"The ratio of negative words to the total words is \" +str(neg_ratio1))\n",
    "\n",
    "stop_ratio1=float(stopwords_count1/(word_count1))\n",
    "print(\"The ratio of stop words to the total words is \" +str(stop_ratio1))\n",
    "\n",
    "others_ratio1=float(other_words_count1/(word_count1))\n",
    "print(\"The ratio of other words to the total words is \" +str(others_ratio1))"
   ]
  },
  {
   "cell_type": "code",
   "execution_count": 887,
   "metadata": {},
   "outputs": [
    {
     "name": "stdout",
     "output_type": "stream",
     "text": [
      "The sum of all positive and negative words observed is: 200\n"
     ]
    }
   ],
   "source": [
    "print(\"The sum of all positive and negative words observed is: \" +str(value1))"
   ]
  },
  {
   "cell_type": "markdown",
   "metadata": {},
   "source": [
    "### Determine the sentiment based on the count of words and an assumed threshold value"
   ]
  },
  {
   "cell_type": "code",
   "execution_count": 888,
   "metadata": {},
   "outputs": [
    {
     "name": "stdout",
     "output_type": "stream",
     "text": [
      "Percentage of positive sentiments is 57.194244604316545\n",
      "Percentage of negative sentiments is 42.805755395683455\n",
      "The overall sentiment is weakly postive\n"
     ]
    }
   ],
   "source": [
    "p1=0\n",
    "n1=0\n",
    "p1= positive_count1/(positive_count1+negative_count1)*100\n",
    "print(\"Percentage of positive sentiments is \" +str(p1))\n",
    "n1= negative_count1/(positive_count1+negative_count1)*100\n",
    "print(\"Percentage of negative sentiments is \" +str(n1))\n",
    "if p1>n1:\n",
    "    if p1>50 and p1<60:\n",
    "        print(\"The overall sentiment is weakly postive\")\n",
    "    else:\n",
    "        print(\"The overall sentiment is strongly postive\")\n",
    "else:\n",
    "    if n1>50 and n1<60:\n",
    "        print(\"The overall sentiment is weakly negative\")\n",
    "    else:\n",
    "        print(\"The overall sentiment is strongly negative\") "
   ]
  },
  {
   "cell_type": "markdown",
   "metadata": {},
   "source": [
    "### Close the files "
   ]
  },
  {
   "cell_type": "code",
   "execution_count": 889,
   "metadata": {},
   "outputs": [],
   "source": [
    "Obama_text.close()\n",
    "positive_file.close()\n",
    "negative_file.close()\n",
    "stopwords_file.close()"
   ]
  }
 ],
 "metadata": {
  "kernelspec": {
   "display_name": "Python 3",
   "language": "python",
   "name": "python3"
  },
  "language_info": {
   "codemirror_mode": {
    "name": "ipython",
    "version": 3
   },
   "file_extension": ".py",
   "mimetype": "text/x-python",
   "name": "python",
   "nbconvert_exporter": "python",
   "pygments_lexer": "ipython3",
   "version": "3.6.4"
  }
 },
 "nbformat": 4,
 "nbformat_minor": 2
}
